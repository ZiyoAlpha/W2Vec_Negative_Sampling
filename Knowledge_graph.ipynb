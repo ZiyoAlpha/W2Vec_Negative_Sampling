{
 "cells": [
  {
   "cell_type": "code",
   "execution_count": null,
   "id": "d9e7fa5d",
   "metadata": {},
   "outputs": [
    {
     "name": "stdout",
     "output_type": "stream",
     "text": [
      "随机小写字母组合: ['k', 'o', 'w', 'e', 'f', 'a', 'd', 'a', 'e', 'n', 'z', 's', 'j', 'k', 'r', 'i', 'b', 'v', 'q', 'c', 'b', 'c', 'y', 'c', 'q', 'z', 'a', 'k', 'm', 'x', 'e', 'g', 'g', 'b', 'r', 'v', 'l', 'a', 's', 't', 'q', 'i', 'v', 'q', 'p', 'o', 'g', 'l', 'u', 'r', 'i', 'v', 'v', 'b', 'e', 'f', 'a', 't', 'q', 'o', 'z', 'j', 'f', 'c', 'i', 'v', 'p', 'b', 'l', 'b', 'q', 'd', 'e', 'q', 'v', 'q', 'h', 'q', 'h', 'a', 'h', 'r', 'q', 'f', 'v', 'v', 'h', 'y', 'g', 'b', 'n', 'w', 'p', 'o', 'm', 'h', 'h', 'k', 'o', 'y', 'b', 'g', 'y', 'r', 'b', 'l', 'q', 'x', 'c', 'x', 'u', 'h', 'n', 'v', 'g', 's', 'o', 'b', 'h', 'k', 'd', 'y', 'g', 'g', 'p', 'n', 'i', 'i', 'm', 'x', 'c', 'x', 'y', 'r', 'u', 'j', 'z', 't', 'r', 'l', 'f', 'r', 't', 'a', 'i', 'n', 'f', 'd', 'e', 'a', 'd', 'k', 'n', 'q', 'i', 'd', 'x', 'q', 'r', 'r', 'i', 'p', 'i', 'q', 'v', 'a', 'u', 'd', 'a', 'b', 'o', 'w', 'y', 'e', 'l', 'y', 'x', 'v', 'g', 'h', 'd', 'g', 'k', 'u', 'r', 'e', 'e', 'l', 'x', 'm', 'u', 'r', 'w', 'm', 'j', 'l', 'u', 'h', 'f', 'v', 'm', 'q', 'e', 'b', 'f', 'l', 'a', 'h', 'y', 'l', 'a', 'u', 'h', 'e', 'q', 'r', 'i', 's', 'w', 'i', 'm', 'a', 'p', 'h', 'q', 't', 'i', 'r', 'y', 'e', 'u', 'm', 'y', 'b', 'j', 'e', 'g', 'x', 'n', 'j', 'z', 'b', 'a', 't', 'o', 'v', 'm', 'y', 'i', 'f', 'w', 'n', 'a', 'a', 'a', 's', 'q', 'c', 'u', 'u', 'q', 'p', 'l', 's', 'k', 'y', 'p', 'r', 'y', 'z', 'n', 'c', 'n', 'x', 'f', 'g', 'h', 'g', 'v', 'n', 'c', 'n', 's', 'a', 'f', 'a', 's', 'k', 'a', 'g', 'f', 'o', 'l', 'k', 'i', 'b', 'i', 'q', 'n', 'p', 'e', 'b', 't', 's', 'r', 'z', 'h', 't', 'h', 'p', 'x', 'l', 'p', 'z', 'm', 'g', 'y', 'r', 'i', 'h', 'a', 'c', 'z', 'o', 'u', 'g', 'v', 's', 'w', 'm', 'x', 'o', 'd', 'x', 'h', 'y', 'o', 'k', 'n', 'j', 'c', 'b', 'c', 'x', 'j', 'a', 'k', 'q', 'q', 'x', 'j', 'y', 'a', 'e', 'm', 'q', 'k', 'u', 'o', 'a', 'k', 'q', 'g', 'e', 'q', 'l', 'z', 'y', 'h', 'a', 'e', 'l', 'l', 'l', 'c', 'h', 'k', 't', 'd', 'q', 'j', 'u', 'r', 'e', 's', 'j', 'v', 'a', 'i', 'n', 'h', 'k', 'o', 'g', 'w', 'h', 'r', 'y', 'c', 'w']\n",
      "随机大写字母组合: ['E', 'L', 'D', 'Y', 'I', 'N', 'Z', 'D', 'C', 'S', 'B', 'D', 'G', 'A', 'I', 'B', 'Y', 'N', 'A', 'T', 'G', 'W', 'A', 'D', 'J', 'V', 'Y', 'Z', 'F', 'J', 'W', 'V', 'Y', 'C', 'A', 'K', 'V', 'R', 'K', 'R', 'L', 'V', 'H', 'T', 'D', 'P', 'I', 'I', 'G', 'A', 'C', 'R', 'R', 'R', 'L', 'P', 'U', 'Z', 'K', 'T', 'V', 'V', 'R', 'F', 'V', 'O', 'T', 'T', 'F', 'B', 'U', 'R', 'A', 'B', 'K', 'Q', 'D', 'S', 'I', 'Q', 'H', 'G', 'D', 'R', 'Q', 'B', 'C', 'V', 'G', 'Y', 'Z', 'V', 'D', 'C', 'V', 'K', 'A', 'C', 'H', 'G', 'A', 'S', 'B', 'H', 'S', 'T', 'U', 'G', 'E', 'Q', 'U', 'T', 'T', 'K', 'S', 'X', 'Q', 'D', 'V', 'A', 'A', 'H', 'J', 'Z', 'T', 'L', 'O', 'K', 'X', 'Q', 'J', 'Y', 'V', 'K', 'Y', 'B', 'W', 'L', 'M', 'W', 'K', 'L', 'G', 'R', 'S', 'R', 'E', 'W', 'M', 'C', 'F', 'D', 'D', 'N', 'T', 'S', 'Z', 'Z', 'Q', 'W', 'X', 'N', 'V', 'O', 'T', 'U', 'X', 'N', 'C', 'B', 'S', 'P', 'V', 'E', 'V', 'Z', 'M', 'C', 'R', 'C', 'U', 'V', 'J', 'X', 'J', 'V', 'H', 'S', 'C', 'I', 'K', 'X', 'V', 'C', 'L', 'V', 'Z', 'L', 'E', 'U', 'F', 'P', 'I', 'B', 'A', 'K', 'B', 'Q', 'T', 'S', 'N', 'Q', 'W', 'I', 'P', 'E', 'R', 'Z', 'I', 'R', 'E', 'Z', 'B', 'G', 'K', 'T', 'O', 'C', 'Q', 'B', 'I', 'Y', 'N', 'A', 'G', 'H', 'E', 'T', 'H', 'R', 'O', 'W', 'I', 'A', 'Q', 'O', 'A', 'M', 'D', 'Z', 'O', 'V', 'Q', 'P', 'W', 'A', 'J', 'R', 'I', 'X', 'H', 'S', 'N', 'N', 'W', 'Y', 'Z', 'I', 'N', 'D', 'U', 'P', 'M', 'N', 'J', 'F', 'L', 'S', 'C', 'G', 'H', 'T', 'M', 'W', 'K', 'E', 'H', 'A', 'M', 'L', 'K', 'Q', 'P', 'I', 'R', 'E', 'R', 'K', 'U', 'V', 'M', 'C', 'Q', 'A', 'B', 'F', 'U', 'J', 'S', 'N', 'P', 'A', 'Y', 'L', 'C', 'O', 'W', 'M', 'Q', 'C', 'E', 'I', 'B', 'Q', 'A', 'M', 'R', 'D', 'Z', 'P', 'T', 'S', 'O', 'K', 'P', 'S', 'J', 'A', 'Y', 'H', 'Y', 'Z', 'B', 'X', 'J', 'W', 'U', 'H', 'U', 'C', 'X', 'P', 'Z', 'M', 'S', 'H', 'H', 'B', 'S', 'Z', 'K', 'B', 'C', 'F', 'T', 'H', 'M', 'W', 'R', 'B', 'Y', 'R', 'E', 'B', 'X', 'H', 'N', 'H', 'T', 'L', 'R', 'X', 'C', 'J', 'S', 'V', 'W', 'K', 'R', 'O', 'W', 'E', 'B', 'E', 'I', 'T', 'P', 'H', 'B', 'K']\n",
      "随机数字组合:     ['9', '0', '9', '3', '6', '3', '9', '8', '6', '5', '5', '2', '6', '9', '0', '4', '4', '5', '9', '5', '4', '0', '2', '8', '6', '7', '9', '8', '8', '9', '9', '6', '5', '0', '9', '4', '3', '3', '7', '7', '2', '1', '4', '1', '6', '8', '4', '1', '9', '1', '1', '5', '6', '3', '1', '3', '8', '9', '2', '6', '7', '8', '0', '0', '0', '5', '2', '9', '2', '4', '1', '9', '2', '2', '3', '2', '0', '8', '0', '3', '0', '5', '5', '9', '0', '9', '1', '3', '9', '8', '9', '1', '1', '3', '3', '5', '0', '5', '0', '3', '5', '2', '7', '7', '6', '4', '4', '5', '8', '9', '2', '8', '7', '5', '4', '7', '9', '5', '0', '6', '1', '1', '5', '2', '7', '4', '8', '0', '9', '6', '0', '2', '9', '8', '0', '7', '4', '4', '8', '1', '6', '3', '8', '9', '9', '1', '0', '4', '1', '2', '5', '7', '5', '9', '7', '9', '6', '3', '9', '5', '6', '1', '0', '0', '1', '2', '3', '7', '3', '3', '4', '5', '8', '9', '2', '3', '4', '6', '3', '1', '9', '3', '7', '6', '0', '2', '5', '7', '9', '2', '0', '8', '9', '1', '3', '2', '2', '3', '4', '4', '2', '2', '5', '4', '4', '1', '4', '8', '2', '1', '4', '1', '2', '2', '9', '6', '4', '5', '4', '6', '6', '2', '3', '9', '7', '5', '6', '3', '1', '7', '3', '5', '8', '6', '5', '5', '2', '7', '2', '7', '7', '6', '6', '1', '9', '4', '9', '4', '8', '3', '4', '2', '7', '5', '2', '0', '8', '0', '3', '2', '7', '2', '8', '8', '5', '6', '5', '5', '4', '1', '0', '5', '1', '6', '6', '8', '4', '4', '3', '4', '6', '8', '2', '8', '8', '4', '5', '9', '5', '1', '8', '3', '1', '7', '3', '9', '3', '2', '1', '7', '2', '1', '3', '7', '9', '9', '7', '8', '5', '4', '3', '9', '8', '0', '1', '9', '9', '9', '2', '4', '8', '2', '5', '1', '1', '3', '7', '0', '4', '0', '2', '8', '9', '1', '2', '1', '2', '3', '0', '5', '3', '6', '8', '9', '8', '0', '8', '0', '6', '7', '3', '7', '5', '9', '2', '5', '5', '2', '7', '9', '7', '4', '3', '2', '9', '8', '1', '0', '4', '9', '2', '7', '8', '3', '6', '6', '0', '6', '2', '0', '2', '9', '0', '2', '6', '1', '6', '7', '5', '6', '7', '6', '9', '2', '0', '2', '9', '4', '4', '5']\n",
      "拼接后的完整字符串:\n",
      " [('w', 'c'), ('J', 'H'), ('O', 'G'), ('a', 'x'), ('9', '0'), ('Z', 'K'), ('1', '2'), ('r', 't'), ('W', 'H'), ('4', '3'), ('k', 'o'), ('a', 'v'), ('w', 'z'), ('r', 'y'), ('C', 'T'), ('F', 'R'), ('n', 'b'), ('e', 'q'), ('i', 'x'), ('K', 'P'), ('0', '7'), ('1', '1'), ('a', 'g'), ('5', '2'), ('8', '5'), ('3', '7'), ('I', 'A'), ('x', 'n'), ('f', 'j'), ('0', '9'), ('S', 'T'), ('a', 'l'), ('x', 'd'), ('y', 'a'), ('f', 'v'), ('b', 'e'), ('9', '7'), ('p', 'h'), ('y', 'e'), ('K', 'V'), ('3', '2'), ('2', '9'), ('4', '5'), ('9', '7'), ('I', 'Q'), ('z', 'h'), ('3', '6'), ('L', 'E'), ('6', '0'), ('2', '2'), ('M', 'S'), ('f', 'e'), ('g', 'q'), ('9', '8'), ('5', '7'), ('1', '1'), ('i', 'y'), ('k', 'd'), ('s', 'r'), ('9', '3'), ('I', 'K'), ('H', 'Y'), ('3', '7'), ('6', '2'), ('D', 'A'), ('x', 'v'), ('l', 'f'), ('K', 'R'), ('i', 'w'), ('x', 'l'), ('N', 'S'), ('8', '1'), ('X', 'T'), ('6', '9'), ('6', '4'), ('i', 'm'), ('E', 'K'), ('f', 'y'), ('3', '1'), ('q', 'a'), ('4', '4'), ('q', 'o'), ('t', 'k'), ('m', 's'), ('E', 'J'), ('g', 'q'), ('x', 'r'), ('Z', 'S'), ('j', 'a'), ('8', '7'), ('i', 'd'), ('e', 'w'), ('L', 'P'), ('a', 'q'), ('k', 'g'), ('u', 'r'), ('J', 'Q'), ('2', '9'), ('K', 'C'), ('e', 'm'), ('H', 'A'), ('y', 't'), ('K', 'O'), ('2', '4'), ('X', 'R'), ('7', '1'), ('b', 'x'), ('E', 'M'), ('0', '7'), ('4', '4'), ('3', '7'), ('E', 'S'), ('f', 'l'), ('N', 'C'), ('Y', 'S'), ('B', 'Y'), ('5', '8'), ('5', '0'), ('t', 'd'), ('D', 'Q'), ('9', '4'), ('7', '0'), ('R', 'P'), ('O', 'H'), ('x', 'c'), ('M', 'C'), ('D', 'W'), ('Y', 'S'), ('t', 'v'), ('P', 'Q'), ('7', '8'), ('i', 'm'), ('e', 'a'), ('a', 'i'), ('7', '0'), ('9', '5'), ('1', '4'), ('k', 'a'), ('J', 'H'), ('3', '8'), ('q', 'b'), ('u', 'y'), ('Z', 'O'), ('6', '0'), ('0', '2'), ('9', '4'), ('z', 'a'), ('4', '3'), ('B', 'G'), ('3', '4'), ('7', '7'), ('1', '5'), ('O', 'A'), ('u', 'j'), ('9', '0'), ('c', 'o'), ('6', '8'), ('N', 'K'), ('A', 'Y'), ('U', 'L'), ('6', '4'), ('o', 'z'), ('2', '8'), ('j', 'm'), ('3', '5'), ('R', 'M'), ('a', 'x'), ('n', 'm'), ('D', 'H'), ('x', 'm'), ('9', '8'), ('z', 'd'), ('v', 'y'), ('6', '6'), ('g', 'u'), ('9', '8'), ('g', 'g'), ('d', 't'), ('2', '8'), ('1', '7'), ('5', '2'), ('S', 'J'), ('C', 'E'), ('7', '1'), ('9', '8'), ('V', 'R'), ('2', '7'), ('i', 'j'), ('8', '9'), ('K', 'G'), ('e', 'k'), ('x', 'i'), ('h', 'c'), ('4', '3'), ('r', 'q'), ('f', 'n'), ('5', '5'), ('H', 'H'), ('1', '8'), ('1', '4'), ('V', 'J'), ('4', '5'), ('Z', 'V'), ('g', 'z'), ('v', 'l'), ('Y', 'B'), ('1', '2'), ('4', '9'), ('B', 'W'), ('5', '3'), ('n', 'b'), ('J', 'N'), ('g', 'v'), ('M', 'N'), ('6', '1'), ('X', 'G'), ('3', '4'), ('7', '5'), ('6', '1'), ('J', 'I'), ('N', 'K'), ('7', '8'), ('2', '1'), ('6', '7'), ('2', '6'), ('S', 'Q'), ('n', 'u'), ('G', 'D'), ('a', 'n'), ('1', '6'), ('z', 'w'), ('K', 'B'), ('g', 'd'), ('7', '4'), ('X', 'B'), ('6', '3'), ('9', '0'), ('q', 'u'), ('q', 'i'), ('3', '2'), ('5', '6'), ('5', '6'), ('S', 'Y'), ('a', 'y'), ('S', 'C'), ('U', 'R'), ('e', 'z'), ('2', '9'), ('0', '3'), ('1', '5'), ('2', '8'), ('0', '3'), ('e', 'h'), ('7', '6'), ('v', 'h'), ('6', '9'), ('c', 'o'), ('R', 'Y'), ('C', 'F'), ('4', '5'), ('g', 'o'), ('o', 'y'), ('0', '7'), ('G', 'L'), ('c', 'f'), ('9', '6'), ('T', 'E'), ('9', '6'), ('p', 'a'), ('v', 'i'), ('I', 'P'), ('b', 'o'), ('4', '7'), ('b', 'y'), ('J', 'P'), ('0', '6'), ('K', 'Q'), ('e', 'u'), ('I', 'W'), ('0', '8'), ('4', '1'), ('2', '9'), ('4', '4'), ('v', 'z'), ('D', 'N'), ('T', 'Z'), ('K', 'W'), ('r', 'e'), ('l', 'l'), ('2', '8'), ('s', 'q'), ('z', 'y'), ('h', 'f'), ('c', 'm'), ('p', 'b'), ('9', '8'), ('R', 'W'), ('V', 'A'), ('X', 'B'), ('L', 'C'), ('9', '5'), ('8', '8'), ('r', 't'), ('C', 'X'), ('X', 'R'), ('1', '6'), ('8', '7'), ('B', 'Q'), ('5', '1'), ('S', 'N'), ('T', 'T'), ('T', 'I'), ('q', 'l'), ('l', 'y'), ('X', 'R'), ('X', 'T'), ('9', '7'), ('0', '9'), ('3', '1'), ('n', 's'), ('C', 'V'), ('W', 'I'), ('E', 'G'), ('I', 'K'), ('z', 's'), ('b', 'q'), ('2', '0'), ('7', '7'), ('x', 'b'), ('1', '6'), ('b', 'k'), ('J', 'Z'), ('d', 'x'), ('Z', 'C'), ('z', 'i'), ('C', 'E'), ('9', '5'), ('2', '9'), ('C', 'K'), ('7', '2'), ('s', 't'), ('e', 'q'), ('W', 'H'), ('k', 'c'), ('q', 'l'), ('C', 'I'), ('Q', 'Y'), ('q', 'o'), ('e', 'k'), ('q', 'f'), ('3', '4'), ('d', 'q'), ('j', 's'), ('2', '8'), ('Q', 'J'), ('9', '1'), ('6', '5'), ('M', 'R'), ('0', '8'), ('V', 'H'), ('5', '1'), ('V', 'C'), ('v', 'g'), ('q', 'g'), ('w', 'n'), ('x', 'x'), ('9', '4'), ('U', 'K'), ('4', '4'), ('s', 'a'), ('E', 'K'), ('R', 'Z'), ('4', '3'), ('f', 's'), ('x', 'u'), ('B', 'A'), ('a', 'w'), ('X', 'B'), ('W', 'H'), ('g', 'v'), ('l', 'b'), ('Z', 'E'), ('8', '7'), ('J', 'S'), ('1', '5'), ('1', '2'), ('N', 'S'), ('8', '4'), ('5', '8'), ('J', 'Q'), ('N', 'B'), ('A', 'T'), ('E', 'H'), ('K', 'H'), ('2', '8'), ('9', '1'), ('B', 'N'), ('2', '8'), ('H', 'A'), ('Z', 'P'), ('5', '7'), ('v', 'b'), ('D', 'S'), ('R', 'Q'), ('e', 'q'), ('L', 'J'), ('g', 'q'), ('Y', 'L'), ('K', 'W'), ('6', '7'), ('Z', 'Y'), ('6', '7'), ('n', 'o'), ('d', 'v'), ('A', 'B'), ('5', '2'), ('o', 'd'), ('2', '4'), ('W', 'E'), ('Q', 'I'), ('B', 'B'), ('U', 'I'), ('d', 'c'), ('b', 'e'), ('0', '9'), ('2', '1'), ('4', '4'), ('p', 'o'), ('C', 'M'), ('2', '6'), ('e', 'q'), ('5', '3'), ('W', 'M'), ('v', 'k'), ('x', 'd'), ('9', '1'), ('6', '3'), ('x', 'c'), ('Z', 'S'), ('Z', 'K'), ('L', 'Z'), ('2', '2'), ('a', 'q'), ('u', 'l'), ('3', '0'), ('5', '8'), ('7', '4'), ('D', 'V'), ('0', '0'), ('l', 'j'), ('E', 'I'), ('3', '7'), ('7', '4'), ('6', '2'), ('9', '4'), ('7', '2'), ('Q', 'I'), ('h', 'r'), ('0', '8'), ('O', 'A'), ('w', 't'), ('m', 'b'), ('7', '2'), ('0', '5'), ('H', 'D'), ('3', '2'), ('X', 'O'), ('A', 'A'), ('7', '0'), ('t', 's'), ('j', 'g'), ('9', '3'), ('B', 'L'), ('9', '2'), ('3', '7'), ('0', '4'), ('1', '0'), ('K', 'I'), ('R', 'J'), ('j', 'h'), ('S', 'A'), ('2', '3'), ('u', 'k'), ('s', 'x'), ('0', '9'), ('E', 'Y'), ('q', 'r'), ('3', '8'), ('0', '1'), ('W', 'U'), ('G', 'T'), ('J', 'S'), ('v', 'z'), ('8', '4'), ('E', 'L'), ('7', '2'), ('K', 'H'), ('a', 'p'), ('l', 'i'), ('3', '0'), ('8', '2'), ('y', 'j'), ('P', 'O'), ('8', '9'), ('K', 'I'), ('e', 'w'), ('G', 'D'), ('q', 'p'), ('T', 'E'), ('r', 's'), ('9', '1'), ('7', '7'), ('Y', 'M'), ('T', 'Y'), ('f', 'r'), ('C', 'S'), ('q', 's'), ('L', 'Y'), ('B', 'X'), ('8', '9'), ('R', 'A'), ('W', 'U'), ('5', '4'), ('s', 'x'), ('q', 'h'), ('Q', 'B'), ('H', 'B'), ('Y', 'K'), ('H', 'A'), ('I', 'S'), ('R', 'A'), ('1', '2'), ('I', 'H'), ('6', '7'), ('8', '4'), ('T', 'G'), ('E', 'V'), ('s', 'm'), ('W', 'H'), ('3', '9'), ('o', 'o'), ('7', '2'), ('T', 'L'), ('a', 'j'), ('I', 'Q'), ('E', 'I'), ('2', '4'), ('g', 'o'), ('D', 'Q'), ('y', 'x'), ('D', 'C'), ('T', 'K'), ('K', 'F'), ('M', 'G'), ('7', '5'), ('V', 'T'), ('5', '2'), ('H', 'H'), ('F', 'F'), ('N', 'F'), ('v', 'm'), ('4', '2'), ('a', 's'), ('g', 'o'), ('M', 'L'), ('g', 'w'), ('S', 'Z'), ('K', 'B'), ('S', 'V'), ('u', 'v'), ('P', 'K'), ('1', '1'), ('Q', 'A'), ('x', 'q'), ('P', 'I'), ('n', 'b'), ('S', 'L'), ('n', 'c'), ('9', '8'), ('O', 'P'), ('x', 'r'), ('g', 'g'), ('5', '8'), ('p', 'i'), ('2', '3'), ('6', '6'), ('W', 'U'), ('6', '1'), ('q', 'p'), ('O', 'H'), ('A', 'B'), ('K', 'C'), ('O', 'M'), ('S', 'I'), ('v', 'r'), ('v', 'u'), ('i', 'g'), ('8', '8'), ('3', '1'), ('B', 'F'), ('4', '8'), ('A', 'F'), ('R', 'M'), ('R', 'I'), ('I', 'C'), ('J', 'T'), ('Q', 'K'), ('p', 'i'), ('U', 'B'), ('f', 'k'), ('o', 's'), ('Z', 'N'), ('6', '6'), ('5', '1'), ('x', 'v'), ('4', '0'), ('1', '1'), ('5', '0'), ('Y', 'P'), ('H', 'K'), ('h', 'y'), ('W', 'T'), ('P', 'Y'), ('I', 'N'), ('B', 'I'), ('n', 'e'), ('y', 'b'), ('6', '3'), ('c', 'd'), ('U', 'F'), ('L', 'S'), ('i', 'd'), ('2', '2'), ('A', 'Y'), ('r', 'm'), ('0', '5'), ('g', 'q'), ('b', 'j'), ('3', '9'), ('B', 'P'), ('K', 'T'), ('5', '7'), ('S', 'U'), ('P', 'H'), ('l', 'b'), ('x', 'l'), ('2', '0'), ('B', 'O'), ('V', 'V'), ('9', '0'), ('4', '6'), ('2', '4'), ('I', 'R'), ('L', 'Q'), ('R', 'N'), ('l', 'p'), ('6', '9'), ('2', '1'), ('2', '2'), ('0', '0'), ('i', 'e'), ('8', '8'), ('y', 'n'), ('a', 'l'), ('G', 'U'), ('u', 'n'), ('8', '3'), ('Q', 'M'), ('0', '3'), ('B', 'X'), ('K', 'S'), ('B', 'C'), ('c', 'n'), ('m', 'y'), ('T', 'K'), ('1', '3'), ('2', '4'), ('k', 'm'), ('x', 'a'), ('5', '4'), ('4', '6'), ('Z', 'T'), ('0', '4'), ('3', '9'), ('q', 'd'), ('j', 'c'), ('2', '9'), ('e', 'i'), ('7', '9'), ('0', '3'), ('4', '5'), ('5', '6'), ('e', 'h'), ('j', 'q'), ('B', 'T'), ('o', 'e'), ('p', 'q'), ('P', 'C'), ('u', 'a'), ('3', '2'), ('1', '0'), ('P', 'V'), ('B', 'L'), ('B', 'J'), ('D', 'Q'), ('8', '4'), ('r', 'j'), ('y', 's'), ('0', '3'), ('A', 'M'), ('G', 'Z'), ('w', 'y'), ('d', 'i'), ('7', '0'), ('E', 'A'), ('4', '9'), ('u', 'q'), ('K', 'Q'), ('y', 'p'), ('8', '6'), ('r', 'p'), ('4', '2'), ('o', 'a'), ('B', 'A'), ('2', '7'), ('7', '6'), ('i', 'f'), ('5', '1'), ('v', 'h'), ('Q', 'F'), ('r', 'r'), ('K', 'K'), ('Y', 'H'), ('a', 'u'), ('0', '9'), ('I', 'Z'), ('7', '8'), ('D', 'A'), ('9', '9'), ('P', 'C'), ('Z', 'T'), ('M', 'F'), ('w', 'i'), ('0', '5'), ('E', 'A'), ('I', 'J'), ('c', 'e'), ('l', 'n'), ('u', 'h'), ('y', 'r'), ('s', 'm'), ('4', '8'), ('m', 'y'), ('q', 'e'), ('k', 'l'), ('1', '0'), ('8', '7'), ('2', '3'), ('D', 'Y'), ('b', 'd'), ('T', 'B'), ('I', 'D'), ('I', 'T'), ('f', 'a'), ('2', '0'), ('1', '4'), ('I', 'B'), ('a', 'c'), ('Q', 'S'), ('P', 'O'), ('g', 'o'), ('q', 'y'), ('n', 'p'), ('e', 'a'), ('6', '5'), ('Y', 'H'), ('9', '2'), ('T', 'T'), ('E', 'Q'), ('2', '4'), ('7', '1'), ('g', 'a'), ('2', '9'), ('q', 'y'), ('T', 'Y'), ('W', 'I'), ('9', '0'), ('o', 'x'), ('1', '0'), ('K', 'C'), ('p', 'a'), ('q', 'e'), ('G', 'N'), ('7', '5'), ('a', 'k'), ('a', 'l'), ('L', 'I'), ('j', 'y'), ('1', '6'), ('0', '2'), ('D', 'Q'), ('4', '8'), ('o', 'd'), ('3', '1'), ('A', 'U'), ('x', 't'), ('9', '1'), ('U', 'I'), ('8', '6'), ('3', '6'), ('e', 'j'), ('c', 'q'), ('n', 'e'), ('5', '3'), ('M', 'C'), ('U', 'H'), ('9', '3'), ('I', 'J'), ('9', '6'), ('8', '8'), ('9', '1'), ('e', 'd'), ('x', 'q'), ('2', '6'), ('R', 'B'), ('R', 'Y'), ('7', '2'), ('l', 'j'), ('u', 'x'), ('O', 'Q'), ('8', '3'), ('4', '9'), ('q', 'e'), ('q', 'i'), ('3', '0'), ('e', 's'), ('L', 'V'), ('b', 'r'), ('a', 'a'), ('T', 'Z'), ('1', '3'), ('U', 'T'), ('1', '2'), ('2', '6'), ('u', 'e'), ('8', '0'), ('6', '0'), ('I', 'C'), ('9', '4'), ('5', '5'), ('Q', 'C'), ('C', 'Q'), ('o', 'x'), ('h', 'h'), ('g', 'a'), ('V', 'D'), ('2', '5'), ('g', 'v'), ('8', '8'), ('5', '6'), ('V', 'D'), ('1', '8'), ('3', '3'), ('k', 'x'), ('V', 'A'), ('4', '8'), ('G', 'N'), ('a', 'g'), ('6', '5'), ('6', '9'), ('Q', 'Y'), ('C', 'V'), ('N', 'U'), ('r', 'u'), ('8', '5'), ('V', 'C'), ('p', 'x'), ('0', '6'), ('5', '3'), ('0', '3'), ('k', 'f'), ('z', 'g'), ('h', 'm'), ('9', '3'), ('P', 'H'), ('o', 'h'), ('d', 't'), ('S', 'S'), ('s', 'h'), ('A', 'F'), ('9', '3'), ('o', 'y'), ('4', '7'), ('y', 'y'), ('t', 'j'), ('9', '4'), ('L', 'D'), ('u', 'i'), ('N', 'J'), ('5', '8'), ('6', '5'), ('A', 'K'), ('o', 'c'), ('Y', 'H'), ('C', 'W'), ('h', 'l'), ('1', '9'), ('V', 'K'), ('Z', 'J'), ('N', 'K'), ('w', 'r'), ('2', '9'), ('2', '4'), ('r', 'f'), ('o', 'i'), ('v', 'v'), ('8', '3'), ('X', 'D'), ('T', 'C'), ('9', '8'), ('F', 'C'), ('n', 'u'), ('l', 'e'), ('B', 'Q'), ('0', '9'), ('8', '9'), ('9', '2'), ('b', 'b'), ('5', '1'), ('k', 't'), ('7', '5'), ('l', 'h'), ('6', '0'), ('a', 'b'), ('f', 't'), ('Q', 'O'), ('v', 'r'), ('5', '7'), ('D', 'E'), ('u', 'd'), ('g', 'd'), ('5', '0'), ('d', 'd'), ('a', 'h'), ('M', 'H'), ('r', 'a'), ('c', 'i'), ('5', '0'), ('2', '1'), ('6', '0'), ('O', 'R'), ('Q', 'X'), ('Y', 'L'), ('F', 'B'), ('B', 'E'), ('O', 'J'), ('G', 'P'), ('e', 'e'), ('P', 'H'), ('Z', 'Z'), ('K', 'P'), ('f', 'b'), ('4', '2'), ('9', '2'), ('B', 'R'), ('b', 't'), ('6', '9'), ('T', 'P'), ('5', '7'), ('y', 'h'), ('a', 'c'), ('2', '4'), ('J', 'J'), ('L', 'V'), ('3', '9'), ('S', 'Z'), ('z', 'x'), ('l', 'v'), ('o', 'd'), ('2', '5'), ('f', 'i'), ('0', '4'), ('L', 'T'), ('7', '2'), ('7', '5'), ('q', 'r'), ('1', '9'), ('r', 's'), ('8', '8'), ('9', '3'), ('1', '9'), ('F', 'L'), ('4', '2'), ('1', '0'), ('7', '5'), ('F', 'B'), ('m', 'i'), ('H', 'W'), ('6', '1'), ('E', 'Q'), ('L', 'E'), ('V', 'Y'), ('2', '6'), ('n', 'l'), ('9', '3'), ('n', 'g'), ('6', '6'), ('0', '1'), ('k', 'u'), ('C', 'R'), ('3', '2'), ('b', 'r'), ('j', 'k'), ('7', '3'), ('Y', 'V'), ('B', 'G'), ('H', 'K'), ('K', 'I'), ('q', 'k'), ('1', '4'), ('b', 'l'), ('l', 'i'), ('2', '4'), ('h', 'b'), ('O', 'N'), ('l', 'h'), ('q', 'z'), ('n', 'h'), ('W', 'D'), ('s', 'y'), ('o', 't'), ('j', 'a'), ('Z', 'H'), ('E', 'I'), ('k', 'q'), ('1', '2'), ('4', '2'), ('F', 'R'), ('k', 'h'), ('r', 'p'), ('T', 'L'), ('9', '0'), ('k', 'g'), ('W', 'V'), ('Z', 'C'), ('2', '4'), ('O', 'E'), ('y', 'q'), ('2', '6'), ('R', 'T'), ('6', '9'), ('z', 'y'), ('g', 'q'), ('u', 'i'), ('B', 'Y'), ('5', '8'), ('6', '8'), ('6', '4'), ('t', 'a'), ('7', '1'), ('Z', 'G'), ('3', '3'), ('A', 'A'), ('0', '3'), ('A', 'U'), ('e', 'z'), ('g', 'b'), ('2', '4'), ('q', 'y'), ('2', '8'), ('A', 'Z'), ('5', '2'), ('o', 'j'), ('e', 'b'), ('C', 'T'), ('s', 'a'), ('u', 'e'), ('k', 'z'), ('l', 'n'), ('j', 'x'), ('p', 'v'), ('R', 'H'), ('K', 'D'), ('z', 'm'), ('S', 'U'), ('7', '0'), ('h', 'u'), ('R', 'R'), ('e', 'm'), ('1', '1'), ('P', 'N'), ('V', 'B'), ('V', 'C'), ('l', 'x'), ('K', 'K'), ('7', '2'), ('k', 'k'), ('5', '1'), ('3', '2'), ('f', 'j'), ('g', 'q'), ('1', '7'), ('r', 'b'), ('f', 'c'), ('P', 'T'), ('I', 'T'), ('l', 'y'), ('T', 'V'), ('c', 'd'), ('1', '3'), ('h', 'r'), ('H', 'A'), ('b', 'l'), ('T', 'Z'), ('Q', 'P'), ('1', '5'), ('T', 'X'), ('x', 'n'), ('b', 'x'), ('g', 'a'), ('S', 'Q'), ('7', '1'), ('h', 'q'), ('3', '8'), ('V', 'Y'), ('J', 'I'), ('t', 'a'), ('D', 'M'), ('d', 'n'), ('7', '9'), ('e', 'f'), ('1', '8'), ('Y', 'E'), ('l', 'x'), ('7', '2'), ('5', '4'), ('h', 't'), ('0', '9'), ('6', '0'), ('e', 'y'), ('7', '0'), ('R', 'R'), ('k', 'd'), ('y', 'a'), ('5', '7'), ('L', 'B'), ('X', 'J'), ('7', '2'), ('2', '0'), ('5', '2'), ('k', 'c'), ('8', '1'), ('2', '0'), ('9', '6'), ('D', 'U'), ('m', 'r'), ('J', 'E'), ('t', 's'), ('G', 'A'), ('a', 'h'), ('A', 'H'), ('Y', 'N'), ('e', 'y'), ('5', '6'), ('C', 'Q'), ('Y', 'M'), ('2', '5'), ('n', 'y'), ('9', '1'), ('1', '9'), ('s', 'k'), ('2', '6'), ('x', 'q'), ('V', 'Z'), ('W', 'V'), ('1', '3'), ('9', '2'), ('0', '8'), ('a', 'a'), ('G', 'V'), ('U', 'B'), ('Z', 'R'), ('8', '0'), ('1', '5'), ('q', 'n'), ('n', 'd'), ('R', 'X'), ('s', 'h'), ('W', 'T'), ('z', 'm'), ('6', '7'), ('1', '4'), ('v', 'h'), ('V', 'N'), ('y', 'm'), ('9', '1'), ('I', 'A'), ('0', '2'), ('B', 'R'), ('m', 'v')]\n",
      "加入噪声后的字符串:\n",
      " ['o', '4', 's', '5', '!', 'V', 'x', '0', '!', '!', 'M', 'Y', 'D', 'P', 'u', 'I', 'J', 'm', 'E', '6', 'w', '7', 'h', '!', 'q', 'd', 'v', 'c', 't', 'H', 'G', 'y', 'b', 'z', 'r', '!', 'L', '8', 'e', 'F', 'i', 'R', 'Z', '2', 'U', 'g', 'B', 'n', 'O', 'Q', 'W', '1', '3', 'N', 'k', 'l', '!', 'A', 'K', '9', 'T', 'S', 'f', 'C', 'a', 'X', 'j', 'p']\n"
     ]
    }
   ],
   "source": [
    "# 生成随机数据集，小写字母、大写字母与数字按顺序结合，模拟上下文\n",
    "# 最终应该实现每一类的词向量应该组合在附近\n",
    "import random\n",
    "import string\n",
    "\n",
    "random.seed(44)\n",
    "\n",
    "# 生成指定长度的随机小写字母字符串\n",
    "def generate_lowercase(length):\n",
    "    return list(''.join(random.choices(string.ascii_lowercase, k=length)))\n",
    "\n",
    "# 生成指定长度的随机大写字母字符串\n",
    "def generate_uppercase(length):\n",
    "    return list(''.join(random.choices(string.ascii_uppercase, k=length)))\n",
    "\n",
    "# 生成指定长度的随机数字字符串\n",
    "def generate_digits(length):\n",
    "    return list(''.join(random.choices(string.digits, k=length)))\n",
    "\n",
    "# 在字符串中随机插入一定数量的噪声符号\n",
    "def add_noise(s, noise_count='auto', noise_symbol='!'):\n",
    "    s = list(s)\n",
    "    if noise_count == 'auto':\n",
    "        # 默认插入与字符串总长度10%的噪声（最少1个）\n",
    "        noise_count = max(1, len(s) // 10)\n",
    "\n",
    "    for _ in range(noise_count):\n",
    "        pos = random.randint(0, len(s))  # 插入位置可以是头部、中间或尾部\n",
    "        s.insert(pos, noise_symbol)\n",
    "    \n",
    "    return list(''.join(s))\n",
    "\n",
    "# 主逻辑部分\n",
    "length = 400\n",
    "\n",
    "# 生成各部分\n",
    "lower = generate_lowercase(length)\n",
    "upper = generate_uppercase(length)\n",
    "digit = generate_digits(length)\n",
    "def data_choice(length):\n",
    "    \"\"\"随机选择小写字母、大写字母或数字\"\"\"\n",
    "    edge = []\n",
    "    for _ in range(length):\n",
    "        n1 = random.choice(lower)\n",
    "        n2 = random.choice(lower)\n",
    "        edge.append((n1, n2))\n",
    "    for _ in range(length):\n",
    "        n1 = random.choice(upper)\n",
    "        n2 = random.choice(upper)\n",
    "        edge.append((n1, n2))\n",
    "    for _ in range(length):\n",
    "        n1 = random.choice(digit)\n",
    "        n2 = random.choice(digit)\n",
    "        edge.append((n1, n2))\n",
    "\n",
    "    random.shuffle(edge)  # 打乱顺序\n",
    "    return edge\n",
    "# 按顺序拼接\n",
    "combined = data_choice(length)\n",
    "\n",
    "# 加入噪声\n",
    "noisy_combined = add_noise( ''.join(set(lower + upper + digit)), noise_count='auto')\n",
    "##小心噪声加入得随机性\n",
    "# 输出结果\n",
    "print(\"随机小写字母组合:\", lower)\n",
    "print(\"随机大写字母组合:\", upper)\n",
    "print(\"随机数字组合:    \", digit)\n",
    "print(\"拼接后的完整字符串:\\n\", combined)\n",
    "print(\"加入噪声后的字符串:\\n\", noisy_combined)"
   ]
  },
  {
   "cell_type": "code",
   "execution_count": 2,
   "id": "ec0fcb28",
   "metadata": {},
   "outputs": [
    {
     "name": "stdout",
     "output_type": "stream",
     "text": [
      "[(18, 24), (14, 26), (44, 27), (59, 5), (54, 6), (38, 53), (47, 39), (31, 25), (46, 26), (1, 48)]\n"
     ]
    }
   ],
   "source": [
    "##编码\n",
    "node = {name: i for i, name in enumerate(set(noisy_combined))}\n",
    "edge = [(node[i[0]], node[i[1]]) for i in combined]\n",
    "len(node), len(edge)\n",
    "print(edge[:10])  # 打印前10个边"
   ]
  },
  {
   "cell_type": "code",
   "execution_count": 3,
   "id": "e793ba08",
   "metadata": {},
   "outputs": [
    {
     "data": {
      "text/plain": [
       "(tensor([[19,  6],\n",
       "         [19,  6],\n",
       "         [19,  3],\n",
       "         [19,  3],\n",
       "         [ 1, 17],\n",
       "         [ 1, 17],\n",
       "         [48, 39],\n",
       "         [48, 39]]),\n",
       " tensor([[19, 54],\n",
       "         [54,  6],\n",
       "         [19, 15],\n",
       "         [15,  3],\n",
       "         [ 1, 39],\n",
       "         [39, 17],\n",
       "         [48, 10],\n",
       "         [10, 39]]))"
      ]
     },
     "execution_count": 3,
     "metadata": {},
     "output_type": "execute_result"
    }
   ],
   "source": [
    "import torch\n",
    "##构建负采样集\n",
    "def get_batch():\n",
    "    \"\"\"从边集中随机采样负样本\"\"\"\n",
    "    neg = []\n",
    "    pos =[]\n",
    "    sample = random.sample(edge, 4)  #  随机选择4条边\n",
    "    ##  一个正节点对应两个负样本\n",
    "    for i in sample:\n",
    "        n1, n2 = i\n",
    "        # 将正样本添加到正样本列表中\n",
    "        pos.append((n1, n2))\n",
    "        pos.append((n1, n2))#构建无序\n",
    "        # 随机选择一个节点作为负样本\n",
    "        while True:\n",
    "            neg_node = random.choice(list(node.values()))\n",
    "            # print(neg_node)\n",
    "            if neg_node != n2 and neg_node != n1:               \n",
    "                neg.append((n1, neg_node))\n",
    "            if  neg_node != n1 and neg_node != n2:\n",
    "                neg.append((neg_node, n2))\n",
    "                break\n",
    "    pos = torch.LongTensor(pos)\n",
    "    neg = torch.LongTensor(neg)\n",
    "    return pos, neg\n",
    "\n",
    "get_batch()"
   ]
  },
  {
   "cell_type": "code",
   "execution_count": 4,
   "id": "6c26d10c",
   "metadata": {},
   "outputs": [],
   "source": [
    "class Model(torch.nn.Module):\n",
    "    def __init__(self):\n",
    "        super().__init__()\n",
    "        # 定义embeding层，embed的数量是词汇量，转化成维度2\n",
    "        self.embed = torch.nn.Embedding(num_embeddings=len(node),embedding_dim=2)\n",
    "\n",
    "        #初始化参数\n",
    "        self.embed.weight.data.uniform_(-0.01,0.01)\n",
    "\n",
    "    def forward(self,pos,neg):\n",
    "        #编码   \n",
    "        ##[8,6] -> [8,6, 2]\n",
    "        x = self.embed(pos)\n",
    "        #[8, 2]-> [8, 2 , 1]\n",
    "        pos_n1 = x[:,0].unsqueeze(dim = 1)\n",
    "        #[8,2]-> [8, 2 , 1]\n",
    "        pos_n2 = x[:,1].unsqueeze(dim = 2)\n",
    "        \n",
    "        loss_pos = torch.bmm(pos_n1, pos_n2).squeeze()\n",
    "\n",
    "       \n",
    "        ##[8,12] -> [8,12,2]\n",
    "        y = self.embed(neg)\n",
    "        #[8, 1, 2]\n",
    "        neg_n1 = y[:, 0].unsqueeze(dim=1)\n",
    "        #[8, 2, 1]\n",
    "        neg_n2 = y[:, 1].unsqueeze(dim=2)\n",
    "        \n",
    "        #[8, 1, 2],[8, 2, 1] -> [8]\n",
    "        loss_neg = torch.bmm(neg_n1, -neg_n2).squeeze()\n",
    "\n",
    "        loss_pos = loss_pos.sigmoid().log().sum()\n",
    "        #[8, 12] -> [8]\n",
    "        loss_neg = loss_neg.sigmoid().log().sum()\n",
    "        #组合两部分的loss\n",
    "        #[8] + [8] -> [1]\n",
    "        loss = (loss_pos + loss_neg).mean()\n",
    "\n",
    "        return -loss\n",
    "        "
   ]
  },
  {
   "cell_type": "code",
   "execution_count": 5,
   "id": "74e445ba",
   "metadata": {},
   "outputs": [
    {
     "data": {
      "text/plain": [
       "tensor(11.0905, grad_fn=<NegBackward0>)"
      ]
     },
     "execution_count": 5,
     "metadata": {},
     "output_type": "execute_result"
    }
   ],
   "source": [
    "model = Model()\n",
    "model(*get_batch())\n"
   ]
  },
  {
   "cell_type": "code",
   "execution_count": 6,
   "id": "301919ad",
   "metadata": {},
   "outputs": [
    {
     "name": "stdout",
     "output_type": "stream",
     "text": [
      "a ['a', 'O', 'C', '4', 'M']\n",
      "g ['g', 'f', 'X', 'c', 'z']\n",
      "1 ['1', 'N', 'b', '2', '9']\n",
      "5 ['5', 'w', '2', 'N', '1']\n",
      "O ['O', 'a', 'C', 'M', '0']\n",
      "H ['H', '9', '7', 'b', '1']\n"
     ]
    }
   ],
   "source": [
    "def test(test_words):\n",
    "    embed = model.embed.weight.data.clone()\n",
    "\n",
    "    for word in test_words:\n",
    "        x = embed[node[word]]\n",
    "        score = torch.nn.functional.cosine_similarity(x, embed)\n",
    "        topk = score.topk(k=5).indices\n",
    "        topk = [list(node.keys())[k] for k in topk]\n",
    "        print(word, topk)\n",
    "\n",
    "\n",
    "test(['a', 'g', '1', '5', 'O', 'H'])"
   ]
  },
  {
   "cell_type": "code",
   "execution_count": 9,
   "id": "2211e36c",
   "metadata": {},
   "outputs": [
    {
     "name": "stdout",
     "output_type": "stream",
     "text": [
      "0 9.17432975769043\n",
      "a ['a', 'q', 'x', 'i', 't']\n",
      "g ['g', 'o', 'c', 'p', 'k']\n",
      "1 ['0', '1', '8', '9', '6']\n",
      "5 ['5', '3', '4', '6', '1']\n",
      "Q ['Q', 'K', 'S', 'J', 'N']\n",
      "H ['H', 'O', 'R', 'U', 'P']\n",
      "5000 38918.81765913963\n",
      "a ['a', 'x', 'l', 'i', 'h']\n",
      "g ['g', 'd', 'm', 'z', 'p']\n",
      "1 ['1', '0', '5', '9', '4']\n",
      "5 ['5', '9', '4', '1', '0']\n",
      "Q ['Q', 'T', 'G', 'I', 'E']\n",
      "H ['H', 'O', 'R', 'A', 'C']\n",
      "10000 38709.95207166672\n",
      "a ['a', 'i', 'l', 'e', 'x']\n",
      "g ['g', 'c', 'z', 'u', 'r']\n",
      "1 ['1', '8', '0', '7', '6']\n",
      "5 ['5', '2', '9', '4', '6']\n",
      "Q ['Q', 'J', 'K', 'Z', 'P']\n",
      "H ['H', 'N', 'C', 'P', 'Z']\n",
      "15000 38635.84590816498\n",
      "a ['a', 'c', 'q', 'x', 'y']\n",
      "g ['g', 'z', 'i', 'w', 'm']\n",
      "1 ['1', '0', '8', '9', '7']\n",
      "5 ['5', '2', '3', '0', '1']\n",
      "Q ['Q', 'O', 'S', 'A', 'Y']\n",
      "H ['H', 'L', 'V', 'Y', 'C']\n",
      "20000 38544.6065428257\n",
      "a ['a', 't', 'v', 'n', 'c']\n",
      "g ['g', 's', 'c', 'n', 'v']\n",
      "1 ['1', '9', '3', '0', '4']\n",
      "5 ['5', '7', '6', '2', '8']\n",
      "Q ['Q', 'J', 'P', 'H', 'S']\n",
      "H ['H', 'P', 'S', 'A', 'I']\n"
     ]
    }
   ],
   "source": [
    "from tqdm   import tqdm\n",
    "def train():\n",
    "    global model\n",
    "    device = 'cuda' if torch.cuda.is_available() else 'cpu'\n",
    "    model = model.to(device)\n",
    "\n",
    "    model.train()\n",
    "    optimizer = torch.optim.Adam(model.parameters(), lr=2e-3)\n",
    "    loss_sum = 0\n",
    "    for epoch in range(20001):\n",
    "        batch = get_batch()\n",
    "        batch = [i.to(device) for i in batch]\n",
    "\n",
    "        loss = model(*batch)\n",
    "        optimizer.zero_grad()\n",
    "        loss.backward()\n",
    "        optimizer.step()\n",
    "\n",
    "        loss_sum += loss.item()\n",
    "\n",
    "        if epoch % 5000 == 0:\n",
    "            print(epoch, loss_sum)\n",
    "            test(['a', 'g', '1', '5', 'Q', 'H'])\n",
    "            loss_sum = 0\n",
    "\n",
    "    model = model.cpu()\n",
    "\n",
    "\n",
    "train()"
   ]
  },
  {
   "cell_type": "code",
   "execution_count": 10,
   "id": "d6d2e7a0",
   "metadata": {},
   "outputs": [
    {
     "data": {
      "image/png": "[encoded data removed]",
      "text/plain": [
       "<Figure size 640x480 with 1 Axes>"
      ]
     },
     "metadata": {},
     "output_type": "display_data"
    }
   ],
   "source": [
    "from matplotlib import pyplot as plt\n",
    "# %matplotlib inline\n",
    "def show():\n",
    "\n",
    "    embed = model.embed.weight.data.clone()\n",
    "    embed -= embed.min(dim=0).values\n",
    "    embed /= embed.max(dim=0).values\n",
    "\n",
    "    for word,x in node.items():\n",
    "        x = embed[x]\n",
    "        plt.text(x[0],x[1],word,fontsize=20)\n",
    "    plt.show()\n",
    "\n",
    "show()\n"
   ]
  }
 ],
 "metadata": {
  "kernelspec": {
   "display_name": "Python 3",
   "language": "python",
   "name": "python3"
  },
  "language_info": {
   "codemirror_mode": {
    "name": "ipython",
    "version": 3
   },
   "file_extension": ".py",
   "mimetype": "text/x-python",
   "name": "python",
   "nbconvert_exporter": "python",
   "pygments_lexer": "ipython3",
   "version": "3.11.10"
  }
 },
 "nbformat": 4,
 "nbformat_minor": 5
}
